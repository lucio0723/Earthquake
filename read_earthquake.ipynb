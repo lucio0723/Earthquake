{
  "nbformat": 4,
  "nbformat_minor": 0,
  "metadata": {
    "colab": {
      "provenance": [],
      "authorship_tag": "ABX9TyPCRhJPztHOaN8bjvVQtPiK",
      "include_colab_link": true
    },
    "kernelspec": {
      "name": "python3",
      "display_name": "Python 3"
    },
    "language_info": {
      "name": "python"
    }
  },
  "cells": [
    {
      "cell_type": "markdown",
      "metadata": {
        "id": "view-in-github",
        "colab_type": "text"
      },
      "source": [
        "<a href=\"https://colab.research.google.com/github/lucio0723/Earthquake/blob/main/read_earthquake.ipynb\" target=\"_parent\"><img src=\"https://colab.research.google.com/assets/colab-badge.svg\" alt=\"Open In Colab\"/></a>"
      ]
    },
    {
      "cell_type": "code",
      "execution_count": 16,
      "metadata": {
        "colab": {
          "base_uri": "https://localhost:8080/"
        },
        "id": "DLKBBNnWVYFe",
        "outputId": "7e54b046-aa90-4478-bf4c-bf62c3b96768"
      },
      "outputs": [
        {
          "output_type": "stream",
          "name": "stdout",
          "text": [
            "<?xml version=\"1.0\" encoding=\"UTF-8\"?>\r\n",
            "<response><header><resultCode>00</resultCode><resultMsg>NORMAL_SERVICE</resultMsg></header><body><dataType>XML</dataType><items><item><cnt>1</cnt><fcTp>3</fcTp><img>http://www.weather.go.kr/w/repositary/image/eqk/img/eqk_img_3_20240315223542.png</img><inT>최대진도 Ⅰ</inT><lat>41.3</lat><loc>북한 함경북도 길주 북북서쪽 40km 지역</loc><lon>129.19</lon><mt>2.2</mt><rem>자연지진으로 분석됨</rem><stnId>108</stnId><tmEqk>20240315223542</tmEqk><tmFc>202403152322</tmFc><tmSeq>280</tmSeq><dep>15</dep></item><item><cnt>1</cnt><fcTp>2</fcTp><img>http://www.weather.go.kr/w/repositary/image/eqk/img/eqk_img_2_20240315061025.png</img><inT></inT><lat>29.83</lat><loc>북대서양 중앙 해령</loc><lon>-42.66</lon><mt>6.0</mt><rem>국내영향없음. 위 자료는 미지질조사소(USGS) 분석결과임.</rem><stnId>108</stnId><tmEqk>20240315061025</tmEqk><tmFc>202403150636</tmFc><tmSeq>275</tmSeq><dep>10</dep></item></items><numOfRows>10</numOfRows><pageNo>1</pageNo><totalCount>2</totalCount></body></response>\r\n",
            "\n"
          ]
        }
      ],
      "source": [
        "import requests\n",
        "from bs4 import BeautifulSoup\n",
        "\n",
        "r = requests.get('http://apis.data.go.kr/1360000/EqkInfoService/getEqkMsg?serviceKey=FdtlIQGO4RSjPuLk%2B9tNljX7O6vDDhVZ1H1ve9AJKypRS6pk%2FpMw%2B22aFyElOZpxokZ5rkwkHDMtAGF71diLQQ%3D%3D&numOfRows=10&pageNo=1&fromTmFc=20240315&toTmFc=20240318')\n",
        "print(r.text)\n",
        ""
      ]
    },
    {
      "cell_type": "code",
      "source": [
        "soup = BeautifulSoup(r.text, features=\"xml\")"
      ],
      "metadata": {
        "id": "-_IcoE1wXJrn"
      },
      "execution_count": 17,
      "outputs": []
    },
    {
      "cell_type": "code",
      "source": [
        "soup.find_all('loc')"
      ],
      "metadata": {
        "colab": {
          "base_uri": "https://localhost:8080/"
        },
        "id": "hJD0tgPOXMW3",
        "outputId": "78be2496-b02b-4d44-9de2-bb7ec5cb96d2"
      },
      "execution_count": 18,
      "outputs": [
        {
          "output_type": "execute_result",
          "data": {
            "text/plain": [
              "[<loc>북한 함경북도 길주 북북서쪽 40km 지역</loc>, <loc>북대서양 중앙 해령</loc>]"
            ]
          },
          "metadata": {},
          "execution_count": 18
        }
      ]
    },
    {
      "cell_type": "code",
      "source": [
        "soup.find_all('rem')"
      ],
      "metadata": {
        "colab": {
          "base_uri": "https://localhost:8080/"
        },
        "id": "jDDiZu97XOG_",
        "outputId": "0c8369c2-5c98-406c-f82c-38195b4f43c3"
      },
      "execution_count": 19,
      "outputs": [
        {
          "output_type": "execute_result",
          "data": {
            "text/plain": [
              "[<rem>자연지진으로 분석됨</rem>, <rem>국내영향없음. 위 자료는 미지질조사소(USGS) 분석결과임.</rem>]"
            ]
          },
          "metadata": {},
          "execution_count": 19
        }
      ]
    },
    {
      "cell_type": "code",
      "source": [
        "soup.find_all('inT')"
      ],
      "metadata": {
        "colab": {
          "base_uri": "https://localhost:8080/"
        },
        "id": "34youQ6aZySB",
        "outputId": "5bd7d7ac-ddab-486f-dd2f-22a7706cfca3"
      },
      "execution_count": 21,
      "outputs": [
        {
          "output_type": "execute_result",
          "data": {
            "text/plain": [
              "[<inT>최대진도 Ⅰ</inT>, <inT/>]"
            ]
          },
          "metadata": {},
          "execution_count": 21
        }
      ]
    },
    {
      "cell_type": "code",
      "source": [
        "soup.find_all('lat')"
      ],
      "metadata": {
        "colab": {
          "base_uri": "https://localhost:8080/"
        },
        "id": "TUek4VeWZ_oC",
        "outputId": "2ae00264-fcce-4761-8406-f9aa8e743d0a"
      },
      "execution_count": 22,
      "outputs": [
        {
          "output_type": "execute_result",
          "data": {
            "text/plain": [
              "[<lat>41.3</lat>, <lat>29.83</lat>]"
            ]
          },
          "metadata": {},
          "execution_count": 22
        }
      ]
    }
  ]
}